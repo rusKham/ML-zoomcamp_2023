{
 "cells": [
  {
   "cell_type": "code",
   "execution_count": 1,
   "id": "d2d12c12-222b-45d2-b585-cbb6350e69bf",
   "metadata": {
    "tags": []
   },
   "outputs": [],
   "source": [
    "import numpy as np\n",
    "import pandas as pd"
   ]
  },
  {
   "cell_type": "markdown",
   "id": "ada2808d-5998-4ce3-85cf-86ea8c01da82",
   "metadata": {},
   "source": [
    "## Question 1"
   ]
  },
  {
   "cell_type": "markdown",
   "id": "b07ee856-e79c-4c5b-95df-8cc8d6dd9ea5",
   "metadata": {},
   "source": [
    "What's the version of Pandas that you installed? \\\n",
    "You can get the version information using the __version__ field:"
   ]
  },
  {
   "cell_type": "code",
   "execution_count": 2,
   "id": "4018a1e9-a731-4db1-93f8-5110f4ff28b5",
   "metadata": {
    "tags": []
   },
   "outputs": [
    {
     "data": {
      "text/plain": [
       "'2.0.3'"
      ]
     },
     "execution_count": 2,
     "metadata": {},
     "output_type": "execute_result"
    }
   ],
   "source": [
    "pd.__version__"
   ]
  },
  {
   "cell_type": "markdown",
   "id": "6f6fe84e-1e21-4807-8cb6-9a78986d8d60",
   "metadata": {},
   "source": [
    "## Getting the data"
   ]
  },
  {
   "cell_type": "code",
   "execution_count": 4,
   "id": "a3c8c05d-58ce-4086-a9f2-eac8c2e82e0a",
   "metadata": {
    "tags": []
   },
   "outputs": [
    {
     "name": "stdout",
     "output_type": "stream",
     "text": [
      "--2023-09-20 00:46:09--  https://raw.githubusercontent.com/alexeygrigorev/datasets/master/housing.csv\n",
      "Resolving raw.githubusercontent.com (raw.githubusercontent.com)... 185.199.110.133, 185.199.111.133, 185.199.108.133, ...\n",
      "Connecting to raw.githubusercontent.com (raw.githubusercontent.com)|185.199.110.133|:443... connected.\n",
      "HTTP request sent, awaiting response... 200 OK\n",
      "Length: 1423529 (1.4M) [text/plain]\n",
      "Saving to: ‘housing.csv’\n",
      "\n",
      "housing.csv         100%[===================>]   1.36M  3.74MB/s    in 0.4s    \n",
      "\n",
      "2023-09-20 00:46:10 (3.74 MB/s) - ‘housing.csv’ saved [1423529/1423529]\n",
      "\n"
     ]
    }
   ],
   "source": [
    "!wget https://raw.githubusercontent.com/alexeygrigorev/datasets/master/housing.csv"
   ]
  },
  {
   "cell_type": "code",
   "execution_count": 5,
   "id": "e6fb39ef-c0e0-434f-b13e-16f4de5524eb",
   "metadata": {
    "tags": []
   },
   "outputs": [],
   "source": [
    "df = pd.read_csv('housing.csv')"
   ]
  },
  {
   "cell_type": "code",
   "execution_count": 6,
   "id": "2bb08704-ff65-4b59-b51f-f5300de05086",
   "metadata": {
    "tags": []
   },
   "outputs": [
    {
     "data": {
      "text/html": [
       "<div>\n",
       "<style scoped>\n",
       "    .dataframe tbody tr th:only-of-type {\n",
       "        vertical-align: middle;\n",
       "    }\n",
       "\n",
       "    .dataframe tbody tr th {\n",
       "        vertical-align: top;\n",
       "    }\n",
       "\n",
       "    .dataframe thead th {\n",
       "        text-align: right;\n",
       "    }\n",
       "</style>\n",
       "<table border=\"1\" class=\"dataframe\">\n",
       "  <thead>\n",
       "    <tr style=\"text-align: right;\">\n",
       "      <th></th>\n",
       "      <th>longitude</th>\n",
       "      <th>latitude</th>\n",
       "      <th>housing_median_age</th>\n",
       "      <th>total_rooms</th>\n",
       "      <th>total_bedrooms</th>\n",
       "      <th>population</th>\n",
       "      <th>households</th>\n",
       "      <th>median_income</th>\n",
       "      <th>median_house_value</th>\n",
       "      <th>ocean_proximity</th>\n",
       "    </tr>\n",
       "  </thead>\n",
       "  <tbody>\n",
       "    <tr>\n",
       "      <th>0</th>\n",
       "      <td>-122.23</td>\n",
       "      <td>37.88</td>\n",
       "      <td>41.0</td>\n",
       "      <td>880.0</td>\n",
       "      <td>129.0</td>\n",
       "      <td>322.0</td>\n",
       "      <td>126.0</td>\n",
       "      <td>8.3252</td>\n",
       "      <td>452600.0</td>\n",
       "      <td>NEAR BAY</td>\n",
       "    </tr>\n",
       "    <tr>\n",
       "      <th>1</th>\n",
       "      <td>-122.22</td>\n",
       "      <td>37.86</td>\n",
       "      <td>21.0</td>\n",
       "      <td>7099.0</td>\n",
       "      <td>1106.0</td>\n",
       "      <td>2401.0</td>\n",
       "      <td>1138.0</td>\n",
       "      <td>8.3014</td>\n",
       "      <td>358500.0</td>\n",
       "      <td>NEAR BAY</td>\n",
       "    </tr>\n",
       "    <tr>\n",
       "      <th>2</th>\n",
       "      <td>-122.24</td>\n",
       "      <td>37.85</td>\n",
       "      <td>52.0</td>\n",
       "      <td>1467.0</td>\n",
       "      <td>190.0</td>\n",
       "      <td>496.0</td>\n",
       "      <td>177.0</td>\n",
       "      <td>7.2574</td>\n",
       "      <td>352100.0</td>\n",
       "      <td>NEAR BAY</td>\n",
       "    </tr>\n",
       "    <tr>\n",
       "      <th>3</th>\n",
       "      <td>-122.25</td>\n",
       "      <td>37.85</td>\n",
       "      <td>52.0</td>\n",
       "      <td>1274.0</td>\n",
       "      <td>235.0</td>\n",
       "      <td>558.0</td>\n",
       "      <td>219.0</td>\n",
       "      <td>5.6431</td>\n",
       "      <td>341300.0</td>\n",
       "      <td>NEAR BAY</td>\n",
       "    </tr>\n",
       "    <tr>\n",
       "      <th>4</th>\n",
       "      <td>-122.25</td>\n",
       "      <td>37.85</td>\n",
       "      <td>52.0</td>\n",
       "      <td>1627.0</td>\n",
       "      <td>280.0</td>\n",
       "      <td>565.0</td>\n",
       "      <td>259.0</td>\n",
       "      <td>3.8462</td>\n",
       "      <td>342200.0</td>\n",
       "      <td>NEAR BAY</td>\n",
       "    </tr>\n",
       "  </tbody>\n",
       "</table>\n",
       "</div>"
      ],
      "text/plain": [
       "   longitude  latitude  housing_median_age  total_rooms  total_bedrooms  \\\n",
       "0    -122.23     37.88                41.0        880.0           129.0   \n",
       "1    -122.22     37.86                21.0       7099.0          1106.0   \n",
       "2    -122.24     37.85                52.0       1467.0           190.0   \n",
       "3    -122.25     37.85                52.0       1274.0           235.0   \n",
       "4    -122.25     37.85                52.0       1627.0           280.0   \n",
       "\n",
       "   population  households  median_income  median_house_value ocean_proximity  \n",
       "0       322.0       126.0         8.3252            452600.0        NEAR BAY  \n",
       "1      2401.0      1138.0         8.3014            358500.0        NEAR BAY  \n",
       "2       496.0       177.0         7.2574            352100.0        NEAR BAY  \n",
       "3       558.0       219.0         5.6431            341300.0        NEAR BAY  \n",
       "4       565.0       259.0         3.8462            342200.0        NEAR BAY  "
      ]
     },
     "execution_count": 6,
     "metadata": {},
     "output_type": "execute_result"
    }
   ],
   "source": [
    "df.head()"
   ]
  },
  {
   "cell_type": "markdown",
   "id": "3cb9f89a-4b25-47ff-890a-480c1231d175",
   "metadata": {},
   "source": [
    "## Question 2\n",
    "How many columns are in the dataset?"
   ]
  },
  {
   "cell_type": "code",
   "execution_count": 7,
   "id": "5ffda730-77c2-431f-b03a-4406b5333807",
   "metadata": {
    "tags": []
   },
   "outputs": [
    {
     "name": "stdout",
     "output_type": "stream",
     "text": [
      "Number of columns is: 10\n"
     ]
    }
   ],
   "source": [
    "n_columns = df.shape[1]\n",
    "print(f'Number of columns is: {n_columns}')"
   ]
  },
  {
   "cell_type": "markdown",
   "id": "e7ddbbbb-8a53-40a8-aa12-6d27e2b1762f",
   "metadata": {},
   "source": [
    "## Question 3\n",
    "Which columns in the dataset have missing values?"
   ]
  },
  {
   "cell_type": "code",
   "execution_count": 8,
   "id": "d29146b4-2ab1-4ac7-9414-536815e8df85",
   "metadata": {
    "tags": []
   },
   "outputs": [
    {
     "data": {
      "text/plain": [
       "total_bedrooms    207\n",
       "dtype: int64"
      ]
     },
     "execution_count": 8,
     "metadata": {},
     "output_type": "execute_result"
    }
   ],
   "source": [
    "df.isnull().sum()[df.isnull().sum() > 0]"
   ]
  },
  {
   "cell_type": "markdown",
   "id": "67863451-cab3-4b35-9b20-91cfbceda8ac",
   "metadata": {},
   "source": [
    "## Question 4\n",
    "How many unique values does the ocean_proximity column have?"
   ]
  },
  {
   "cell_type": "code",
   "execution_count": 9,
   "id": "b3bf7a1e-ba32-480f-beb2-7352c999e380",
   "metadata": {
    "tags": []
   },
   "outputs": [
    {
     "data": {
      "text/plain": [
       "5"
      ]
     },
     "execution_count": 9,
     "metadata": {},
     "output_type": "execute_result"
    }
   ],
   "source": [
    "df.ocean_proximity.nunique()"
   ]
  },
  {
   "cell_type": "markdown",
   "id": "41d61f77-b451-4060-976c-e6cf93b64ccb",
   "metadata": {},
   "source": [
    "## Question 5\n",
    "What's the average value of the median_house_value for the houses located near the bay?"
   ]
  },
  {
   "cell_type": "code",
   "execution_count": 10,
   "id": "3d7e8acf-1e99-44b0-9b7b-6438bff9b92e",
   "metadata": {
    "tags": []
   },
   "outputs": [
    {
     "data": {
      "text/plain": [
       "259212.31"
      ]
     },
     "execution_count": 10,
     "metadata": {},
     "output_type": "execute_result"
    }
   ],
   "source": [
    "df[df.ocean_proximity == 'NEAR BAY']['median_house_value'].mean().round(2)"
   ]
  },
  {
   "cell_type": "markdown",
   "id": "702bcecf-972e-4c60-b34d-114721a09d07",
   "metadata": {},
   "source": [
    "## Question 6\n",
    "Calculate the average of total_bedrooms column in the dataset. \\\n",
    "Use the fillna method to fill the missing values in total_bedrooms with the mean value from the previous step. \\\n",
    "Now, calculate the average of total_bedrooms again. \\\n",
    "Has it changed? "
   ]
  },
  {
   "cell_type": "code",
   "execution_count": 19,
   "id": "acedf9b8-3fb0-4169-b1f8-e047f6d2adf0",
   "metadata": {
    "tags": []
   },
   "outputs": [
    {
     "name": "stdout",
     "output_type": "stream",
     "text": [
      "The average of total_bedrooms column in the dataset is 537.871\n",
      "The average of total_bedrooms column in the dataset after filling missing values is 537.871\n"
     ]
    }
   ],
   "source": [
    "original_mean_total_bedrooms = df.total_bedrooms.mean().round(3)\n",
    "print(f'The average of total_bedrooms column in the dataset is {original_mean_total_bedrooms}')\n",
    "df.total_bedrooms.fillna(original_mean_total_bedrooms, inplace=True)\n",
    "updated_mean_total_bedrooms = df.total_bedrooms.mean().round(3)\n",
    "print(f'The average of total_bedrooms column in the dataset after filling missing values is {updated_mean_total_bedrooms}')"
   ]
  },
  {
   "cell_type": "markdown",
   "id": "7e5f3b83-f937-4107-b24e-f0026019b17b",
   "metadata": {
    "tags": []
   },
   "source": [
    "## Question 7\n",
    "Select all the options located on islands. \\\n",
    "Select only columns housing_median_age, total_rooms, total_bedrooms. \\\n",
    "Get the underlying NumPy array. Let's call it X. \\\n",
    "Compute matrix-matrix multiplication between the transpose of X and X. To get the transpose, use X.T. Let's call the result XTX. \\\n",
    "Compute the inverse of XTX. \\\n",
    "Create an array y with values [950, 1300, 800, 1000, 1300]. \\\n",
    "Multiply the inverse of XTX with the transpose of X, and then multiply the result by y. Call the result w. \\\n",
    "What's the value of the last element of w?"
   ]
  },
  {
   "cell_type": "code",
   "execution_count": 35,
   "id": "1e3c6a59-ed71-4c2d-8385-904864dba5de",
   "metadata": {
    "tags": []
   },
   "outputs": [
    {
     "name": "stdout",
     "output_type": "stream",
     "text": [
      "Value of the last element of w: 5.6992\n"
     ]
    }
   ],
   "source": [
    "subset_data = df[df.ocean_proximity == 'ISLAND'][['housing_median_age', 'total_rooms', 'total_bedrooms']]\n",
    "X = subset_data.values\n",
    "XTX = X.T.dot(X)\n",
    "XTX_inverse = np.linalg.inv(XTX)\n",
    "y = np.array([950, 1300, 800, 1000, 1300])\n",
    "w = XTX_inverse.dot(X.T).dot(y)\n",
    "print(f'Value of the last element of w: {w[-1].round(4)}')\n"
   ]
  },
  {
   "cell_type": "code",
   "execution_count": null,
   "id": "58a15d4d-6ff0-481e-8f28-2b655c5eb716",
   "metadata": {},
   "outputs": [],
   "source": []
  }
 ],
 "metadata": {
  "kernelspec": {
   "display_name": "ml-zoomcamp",
   "language": "python",
   "name": "ml-zoomcamp"
  },
  "language_info": {
   "codemirror_mode": {
    "name": "ipython",
    "version": 3
   },
   "file_extension": ".py",
   "mimetype": "text/x-python",
   "name": "python",
   "nbconvert_exporter": "python",
   "pygments_lexer": "ipython3",
   "version": "3.9.18"
  }
 },
 "nbformat": 4,
 "nbformat_minor": 5
}
